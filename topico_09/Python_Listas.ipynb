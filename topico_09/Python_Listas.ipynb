{
  "nbformat": 4,
  "nbformat_minor": 0,
  "metadata": {
    "colab": {
      "provenance": [],
      "include_colab_link": true
    },
    "kernelspec": {
      "name": "python3",
      "display_name": "Python 3"
    },
    "language_info": {
      "name": "python"
    }
  },
  "cells": [
    {
      "cell_type": "markdown",
      "metadata": {
        "id": "view-in-github",
        "colab_type": "text"
      },
      "source": [
        "<a href=\"https://colab.research.google.com/github/goncaze/algoritmos_programaco/blob/main/topico_09/Python_Listas.ipynb\" target=\"_parent\"><img src=\"https://colab.research.google.com/assets/colab-badge.svg\" alt=\"Open In Colab\"/></a>"
      ]
    },
    {
      "cell_type": "markdown",
      "source": [
        "# <font color=\"ocean\" align='center'>**LISTAS DO MUNDO REAL**</font>\n",
        "\n",
        "---"
      ],
      "metadata": {
        "id": "f6MjyYOVJvYT"
      }
    },
    {
      "cell_type": "markdown",
      "source": [
        "### Com quantas listas você já teve que lidar na sua vida? São muitas listas, correto? Por exemplo, lista de supermercado, lista de tarefas para fazer, lista de presentes, lista de contatos, entre tantas outras.\n",
        "### Veremos que a linguagem de programação Python também tem listas e aprenderemos o básico de como usá-las.\n"
      ],
      "metadata": {
        "id": "TLrahFbjNBFF"
      }
    },
    {
      "cell_type": "markdown",
      "source": [
        "# <font color=\"ocean\" align='center'>**O QUE VAMOS APRENDER?**</font>\n"
      ],
      "metadata": {
        "id": "CuqOWUoCopF0"
      }
    },
    {
      "cell_type": "markdown",
      "source": [
        "<font color='orange'>\n",
        "\n",
        "### <font color='orange'>1. Declarar uma variável de lista vazia</font>\n",
        "### <font color='orange'>2. Declarar uma variável de lista com valores</font>\n",
        "### <font color='orange'>3. Imprimir listas</font>\n",
        "### <font color='orange'>4. Compreender as posições/índices de listas</font>\n",
        "### <font color='orange'>5. Acessar elementos da lista</font>\n",
        "  * <font color='orange'>Usando seus índices</font>\n",
        "  * <font color='orange'>Obter o último elemento</font>\n",
        "  * <font color='orange'>Obter o penúltimo elemento</font>\n",
        "  * <font color='orange'>Usar uma faixa de índices</font>\n",
        "\n",
        "###<font color='orange'> <font color='orange'>6. Alterar elementos da lista</font>\n",
        "  * <font color='orange'>Através de seus índices</font>\n",
        "\n",
        "###<font color='orange'> <font color='orange'>7. Comprimento ou tamanho da lista</font>\n",
        "### <font color='orange'>8. Percorrer a lista</font>\n",
        "  * <font color='orange'>com while</font>\n",
        "  * <font color='orange'>com for</font>\n",
        "\n",
        "###<font color='orange'> <font color='orange'>9. Determinar o tipo da lista</font>"
      ],
      "metadata": {
        "id": "RPFe8XfidVAg"
      }
    },
    {
      "cell_type": "markdown",
      "source": [
        "# <font color='ocean'>**LISTAS PYTHON**</font>\n",
        "\n",
        "### Variáveis do tipo list em Python são usadas para armazenar vários itens de uma única vez e aceitam valores duplicados. Diversos tipos de valores (int, str, float, etc.) podem ser armazenados em uma lista Python."
      ],
      "metadata": {
        "id": "Yx3EiGqSnfrk"
      }
    },
    {
      "cell_type": "markdown",
      "source": [
        "## <font color='orange'>**COMO DECLARAR UMA LISTA VAZIA?**</font>"
      ],
      "metadata": {
        "id": "KglMZtTUNdXm"
      }
    },
    {
      "cell_type": "markdown",
      "source": [
        "### Uma forma para declarar uma lista vazia é usando um par de colchetes sem valores.\n",
        "\n",
        "### Exemplo:\n",
        "\n",
        "*   ### *lista_vazia = []*\n",
        "\n",
        "<br>\n",
        "\n",
        "### A seguir, execute o código do exemplo na célula abaixo."
      ],
      "metadata": {
        "id": "8DhZkhBHdG2M"
      }
    },
    {
      "cell_type": "code",
      "source": [
        "# Digite o código e execute esta célula.\n",
        "\n"
      ],
      "metadata": {
        "id": "woVc3RbLNWz4"
      },
      "execution_count": null,
      "outputs": []
    },
    {
      "cell_type": "markdown",
      "source": [
        "## <font color='orange'>**EXISTE OUTRA FORMA PARA DECLARAR UMA LISTA VAZIA?**</font>"
      ],
      "metadata": {
        "id": "aRvVeMZATGDd"
      }
    },
    {
      "cell_type": "markdown",
      "source": [
        "### Outra forma para declarar uma lista vazia é usando a função list() sem argumentos/valores.\n",
        "\n",
        "\n",
        "### Exemplo:\n",
        "\n",
        "*   ### *outra_lista_vazia = list()*\n",
        "\n",
        "<br>\n",
        "\n",
        "### A seguir, execute o código do exemplo na célula abaixo."
      ],
      "metadata": {
        "id": "iED0xvpac7Bu"
      }
    },
    {
      "cell_type": "code",
      "source": [
        "# Digite o código e execute esta célula.\n",
        "\n"
      ],
      "metadata": {
        "id": "9iwdqNLOTGDd"
      },
      "execution_count": null,
      "outputs": []
    },
    {
      "cell_type": "markdown",
      "source": [
        "## <font color='orange'>**COMO DELCARAR UMA LISTA COM VALORES?**</font>"
      ],
      "metadata": {
        "id": "YSRv8JUQNoI4"
      }
    },
    {
      "cell_type": "markdown",
      "source": [
        "### Uma forma para declarar uma lista com valores é usando um par de colchetes com valores.\n",
        "\n",
        "<br>\n",
        "\n",
        "### Exemplo:\n",
        "\n",
        "*   ### *lista_frutas = ['manga', 'melancia', 'pêra', 'uva']*\n",
        "\n",
        "<br>\n",
        "\n",
        "### A seguir, execute o código do exemplo na célula abaixo."
      ],
      "metadata": {
        "id": "hOH5W8UScvaD"
      }
    },
    {
      "cell_type": "code",
      "source": [
        "# Digite o código e execute esta célula.\n",
        "\n"
      ],
      "metadata": {
        "id": "bdIfwiDrNoI5"
      },
      "execution_count": null,
      "outputs": []
    },
    {
      "cell_type": "markdown",
      "source": [
        "## <font color='orange'>**EXISTE OUTRA FORMA PARA DECLARAR UMA LISTA COM VALORES?**</font>"
      ],
      "metadata": {
        "id": "ULBPmMUNTbpN"
      }
    },
    {
      "cell_type": "markdown",
      "source": [
        "### Outra forma para declarar uma lista com valores é usando a função list() com argumentos/valores.\n",
        "\n",
        "<br>\n",
        "\n",
        "### Exemplo:\n",
        "\n",
        "*   ### *outra_lista_frutas = list(('Mamão', 'Tomate', 'Jabuticaba', 'Amora'))*\n",
        "\n",
        "<br>\n",
        "\n",
        "### A seguir, execute o código do exemplo na célula abaixo."
      ],
      "metadata": {
        "id": "Pw_20qi4cPCB"
      }
    },
    {
      "cell_type": "code",
      "source": [
        "# Digite o código e execute esta célula.\n",
        "\n"
      ],
      "metadata": {
        "id": "nBab3K5JTbpO"
      },
      "execution_count": null,
      "outputs": []
    },
    {
      "cell_type": "markdown",
      "source": [
        "## <font color='orange'>**IMPRIMIR LISTA**</font>"
      ],
      "metadata": {
        "id": "apsz9CsbOz5C"
      }
    },
    {
      "cell_type": "markdown",
      "source": [
        "### Uma maneira simples de imprimir uma lista é passar o nome da variável do tipo list como argumento na função print().\n",
        "\n",
        "\n",
        "### Exemplo:\n",
        "* ### *print(lista_vazia)*\n",
        "* ### *print(outra_lista_vazia)*\n",
        "* ### *print(lista_frutas)*\n",
        "* ### *print(outra_lista_frutas)*\n",
        "\n",
        "<br>\n",
        "\n",
        "### A seguir, execute o código do exemplo na célula abaixo."
      ],
      "metadata": {
        "id": "L2zgUCBEcJKh"
      }
    },
    {
      "cell_type": "code",
      "execution_count": null,
      "metadata": {
        "id": "CA3WBdgyJh1w"
      },
      "outputs": [],
      "source": [
        "# Digite o código e execute esta célula.\n",
        "\n"
      ]
    },
    {
      "cell_type": "markdown",
      "source": [
        "## <font color='orange'>**IMPRIMIR LISTA COM F-STRING**</font>"
      ],
      "metadata": {
        "id": "J1N-aKSSuiqv"
      }
    },
    {
      "cell_type": "markdown",
      "source": [
        "### Outra maneira de imprimir uma lista é usando função print() com f-string.\n",
        "\n",
        "### Exemplo:\n",
        "* ### *print(f\"{lista_vazia = }\")*\n",
        "* ### *print(f\"{outra_lista_vazia = }\")*\n",
        "* ### *print(f\"{lista_frutas = }\")*\n",
        "* ### *print(f\"{outra_lista_frutas = }\")*\n",
        "\n",
        "<br>\n",
        "\n",
        "### A seguir, execute o código do exemplo na célula abaixo."
      ],
      "metadata": {
        "id": "je-JvJ8xbayv"
      }
    },
    {
      "cell_type": "code",
      "execution_count": null,
      "metadata": {
        "id": "LAAvarfJb5p5"
      },
      "outputs": [],
      "source": [
        "# Digite o código e execute esta célula.\n",
        "\n"
      ]
    },
    {
      "cell_type": "markdown",
      "source": [
        "## <font color='orange'>**LIMPAR UMA LISTA**</font>"
      ],
      "metadata": {
        "id": "Fh8JDc3Kdjb-"
      }
    },
    {
      "cell_type": "markdown",
      "source": [
        "### O método clear() esvazia a lista, ou seja, todos os itens que existem na lista serão excluídos. Porém, a lista ainda existirá, mas sem conteúdo.\n",
        "\n",
        "### Exemplo:\n",
        "* ### *lista_qualquer = ['A', 'B', 'C']*\n",
        "* ### *print(f\"{lista_qualquer = }\")*\n",
        "* ### *lista_qualquer.clear()*\n",
        "* ### *print(f\"{lista_qualquer = }\")*\n",
        "\n",
        "<br>\n",
        "\n",
        "### A seguir, execute o código do exemplo na célula abaixo."
      ],
      "metadata": {
        "id": "O5awZcUbdjb_"
      }
    },
    {
      "cell_type": "code",
      "execution_count": null,
      "metadata": {
        "id": "HfhXhBSedjcA"
      },
      "outputs": [],
      "source": [
        "# Digite o código e execute esta célula.\n",
        "\n"
      ]
    },
    {
      "cell_type": "markdown",
      "source": [
        "## <font color=\"ocean\">**PARA COMPREENDER OS ÍNDICES DE UMA LISTA**</font>"
      ],
      "metadata": {
        "id": "jdjsKL3jbOBf"
      }
    },
    {
      "cell_type": "markdown",
      "source": [
        "### Em Python, estruturas como listas tem a posição de seus elementos contas a partir do índice zero (0). Então, como no exemplo da imagem, embora exista 4 elementos na lista, a contagem vai até o índice 3.\n",
        "\n",
        "![image.png](data:image/png;base64,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)"
      ],
      "metadata": {
        "id": "Ym4wZ23ePppz"
      }
    },
    {
      "cell_type": "markdown",
      "source": [
        "### <font color='orange'>**ACESSAR ELEMENTOS DA LISTA ATRAVÉS DE SEUS ÍNDICES**</font>\n",
        "\n",
        "### Vejamos um exemplo para acessar e imprimir os itens da lista de frutas que estão localizados nos índices zero e dois.\n",
        "\n",
        "<br>\n",
        "\n",
        "### Exemplo:\n",
        "* ### *print(f\"{lista_frutas[0] = }\")*\n",
        "* ### *print(f\"{lista_frutas[2] = }\")*\n",
        "\n",
        "<br>\n",
        "\n",
        "### A seguir, execute o código do exemplo na célula abaixo.\n"
      ],
      "metadata": {
        "id": "No5T4vgLTPlj"
      }
    },
    {
      "cell_type": "code",
      "source": [
        "# Digite o código e execute esta célula.\n",
        "\n"
      ],
      "metadata": {
        "id": "Jwxh-1jcPBLi"
      },
      "execution_count": null,
      "outputs": []
    },
    {
      "cell_type": "markdown",
      "source": [
        "### <font color='orange'>**ACESSAR O ÚLTIMO ELEMENTO DA LISTA ATRAVÉS DO ÍNDICE -1**</font>\n",
        "\n",
        "### Vejamos um exemplo para acessar e imprimir o último item da lista de frutas. Observe que essa estratégia de acesso com índices negativos facilitam o acesso ao último elemento sem a necessidade de saber o comprimento da lista.\n",
        "\n",
        "<br>\n",
        "\n",
        "### Exemplo:\n",
        "* ### *print(f\"{lista_frutas[-1] = }\")*\n",
        "\n",
        "<br>\n",
        "\n",
        "### A seguir, execute o código do exemplo na célula abaixo.\n"
      ],
      "metadata": {
        "id": "A-zaiXbsWY7G"
      }
    },
    {
      "cell_type": "code",
      "source": [
        "# Digite o código e execute esta célula.\n",
        "\n"
      ],
      "metadata": {
        "id": "2PrJkYnMWY7H"
      },
      "execution_count": null,
      "outputs": []
    },
    {
      "cell_type": "markdown",
      "source": [
        "### <font color='orange'>**ACESSAR O PENÚLTIMO ELEMENTO DA LISTA ATRAVÉS DO ÍNDICE -2**</font>\n",
        "\n",
        "### E agora? Como se faz para acessar o penúltimo elemento? Vejamos um exemplo:\n",
        "\n",
        "<br>\n",
        "\n",
        "### Exemplo:\n",
        "* ### *print(f\"{lista_frutas[-2] = }\")*\n",
        "\n",
        "<br>\n",
        "\n",
        "### A seguir, execute o código do exemplo na célula abaixo."
      ],
      "metadata": {
        "id": "n9Y3OkkZXsJb"
      }
    },
    {
      "cell_type": "code",
      "source": [
        "# Digite o código e execute esta célula.\n",
        "\n"
      ],
      "metadata": {
        "id": "JvNm9pGJXsJb"
      },
      "execution_count": null,
      "outputs": []
    },
    {
      "cell_type": "markdown",
      "source": [
        "### <font color='orange'>**ACESSAR ELEMENTOS DA LISTA ATRAVÉS DE UMA FAIXA DE ÍNDICES**</font>\n",
        "\n",
        "### Imagine que, por um acaso, você precise acessar vários elementos de uma única vez. Seria possivel? E a resposta é sim! Use um par de índices separados por dois pontos (:). Vejamos um exemplo:\n",
        "\n",
        "<br>\n",
        "\n",
        "### Exemplo:\n",
        "* ### *lista_longa = ['Maca', 'Tanja', 'Caju', 'Amora', 'manga', 'Acai', 'pera', 'uva']*\n",
        "* ### *print(f\"{lista_longa[2:5] = }\")*\n",
        "\n",
        "<br>\n",
        "\n",
        "### A seguir, execute o código do exemplo na célula abaixo."
      ],
      "metadata": {
        "id": "tEcBdxwnWojT"
      }
    },
    {
      "cell_type": "code",
      "source": [
        "# Digite o código e execute esta célula.\n",
        "\n"
      ],
      "metadata": {
        "id": "W9K_9xn9WojT"
      },
      "execution_count": null,
      "outputs": []
    },
    {
      "cell_type": "markdown",
      "source": [
        "### <font color='orange'>Também é possível ocultar o último índice. Vejamos um exemplo:</font>\n",
        "\n",
        "<br>\n",
        "\n",
        "### Exemplo:\n",
        "* ### *print(f\"{lista_longa[3:] = }\")*\n",
        "\n",
        "<br>\n",
        "\n",
        "### A seguir, execute o código do exemplo na célula abaixo."
      ],
      "metadata": {
        "id": "tDMo7WLH_xVP"
      }
    },
    {
      "cell_type": "code",
      "source": [
        "# Digite o código e execute esta célula.\n",
        "\n"
      ],
      "metadata": {
        "id": "M1lSwjtcaBnt"
      },
      "execution_count": null,
      "outputs": []
    },
    {
      "cell_type": "markdown",
      "source": [
        "### <font color='orange'>Deste par de índices, é possível ocultar o primeiro índice também. Vejamos um exemplo:</font>\n",
        "\n",
        "<br>\n",
        "\n",
        "### Exemplo:\n",
        "* ### *print(f\"{lista_longa[:4] = }\")*\n",
        "\n",
        "<br>\n",
        "\n",
        "### A seguir, execute o código do exemplo na célula abaixo."
      ],
      "metadata": {
        "id": "UOLuz8WjASOB"
      }
    },
    {
      "cell_type": "code",
      "source": [
        "# Digite o código e execute esta célula.\n",
        "\n"
      ],
      "metadata": {
        "id": "D_8wwLzRaKw4"
      },
      "execution_count": null,
      "outputs": []
    },
    {
      "cell_type": "markdown",
      "source": [
        "### <font color='orange'>Deve estar se perguntando se é possível fazer o mesmo com índices negativos. Vejamos um exemplo:</font>\n",
        "\n",
        "<br>\n",
        "\n",
        "### Exemplo:\n",
        "* ### *print(f\" { lista_longa[-3:-1] = } \")*\n",
        "\n",
        "<br>\n",
        "\n",
        "### A seguir, execute o código do exemplo na célula abaixo."
      ],
      "metadata": {
        "id": "zSBvgXldA-_c"
      }
    },
    {
      "cell_type": "code",
      "source": [
        "# Digite o código e execute esta célula.\n",
        "\n"
      ],
      "metadata": {
        "id": "mZp_LAGwabKY"
      },
      "execution_count": null,
      "outputs": []
    },
    {
      "cell_type": "markdown",
      "source": [
        "## <font color='ORANGE'>**MODIFICAR ELEMENTOS DA LISTA ATRAVÉS DE SEUS ÍNDICES**</font>"
      ],
      "metadata": {
        "id": "CeIJk-1DTlxp"
      }
    },
    {
      "cell_type": "markdown",
      "source": [
        "### Se queremos modificar os itens da nossa lista de frutas, como faremos? Vejamos um exemplo:</font>\n",
        "\n",
        "<br>\n",
        "\n",
        "### Exemplo:\n",
        "* ### *lista_frutas[0] = 'Abacate'*\n",
        "* ### *lista_frutas[2] = 'Abacaxi'*\n",
        "* ### *print(f\"{lista_frutas = }\")*\n",
        "\n",
        "<br>\n",
        "\n",
        "### A seguir, execute o código do exemplo na célula abaixo."
      ],
      "metadata": {
        "id": "dUa88Lj9a68e"
      }
    },
    {
      "cell_type": "code",
      "source": [
        "# Digite o código e execute esta célula.\n",
        "\n"
      ],
      "metadata": {
        "id": "bYxeWxCuTlxq"
      },
      "execution_count": null,
      "outputs": []
    },
    {
      "cell_type": "markdown",
      "source": [
        "## <font color='orange'>**DETERMINAR O COMPRIMENTO/TAMANHO DA LISTA**</font>"
      ],
      "metadata": {
        "id": "-MPBMPizUIGW"
      }
    },
    {
      "cell_type": "markdown",
      "source": [
        "### O comprimento ou tamanho de uma lista refere-se à quantidade de itens que ela possui. Em Python, utilizamos a função len() para obter o comprimento das listas. Vejamos um exemplo:</font>\n",
        "\n",
        "<br>\n",
        "\n",
        "### Exemplo:\n",
        "* ### *comprimento_vazia = len( lista_vazia )*\n",
        "* ### *comprimento_frutas = len( lista_frutas )*\n",
        "* ### *print(f\"{comprimento_vazia = }\")*\n",
        "* ### *print(f\"{comprimento_frutas = }\")*\n",
        "\n",
        "<br>\n",
        "\n",
        "### A seguir, execute o código do exemplo na célula abaixo."
      ],
      "metadata": {
        "id": "w8PybZFKax8L"
      }
    },
    {
      "cell_type": "code",
      "source": [
        "# Digite o código e execute esta célula.\n",
        "\n"
      ],
      "metadata": {
        "id": "RDc0G5egTgLJ"
      },
      "execution_count": null,
      "outputs": []
    },
    {
      "cell_type": "markdown",
      "source": [
        "## <font color='orange'>**PERCORRER A LISTA COM WHILE**</font>"
      ],
      "metadata": {
        "id": "JnI-dcuZVG9Y"
      }
    },
    {
      "cell_type": "markdown",
      "source": [
        "### Se uma lista tem comprimento, significa que é possível percorrer esse comprimento da lista. Podemos usar laços de repetição. Vejamos um exemplo:</font>\n",
        "\n",
        "<br>\n",
        "\n",
        "### Exemplo:\n",
        "\n",
        "* comprimento_frutas = len( lista_frutas )\n",
        "* indice = 0\n",
        "\n",
        "* while indice < comprimento_frutas:\n",
        "    * print(f\"{lista_frutas[indice] = }\")\n",
        "    * indice += 1\n",
        "\n",
        "<br>\n",
        "\n",
        "### A seguir, execute o código do exemplo na célula abaixo."
      ],
      "metadata": {
        "id": "k5m_VJvLagib"
      }
    },
    {
      "cell_type": "markdown",
      "source": [],
      "metadata": {
        "id": "oUyQ-mfwakSG"
      }
    },
    {
      "cell_type": "code",
      "source": [
        "# Digite o código e execute esta célula.\n",
        "\n"
      ],
      "metadata": {
        "id": "YxjhSl_AUxU1"
      },
      "execution_count": null,
      "outputs": []
    },
    {
      "cell_type": "markdown",
      "source": [
        "## <font color='orange'>**PERCORRER LISTA COM FOR**</font>"
      ],
      "metadata": {
        "id": "d1NH3H5NV0ul"
      }
    },
    {
      "cell_type": "markdown",
      "source": [
        "\n",
        "### Se é possível percorrer esse comprimento da lista com a função WHILE, então, também podemos usar estrutura de repetição FOR. Vejamos um exemplo:\n",
        "\n",
        "<br>\n",
        "\n",
        "### Exemplo:\n",
        "* ### for elemento in lista_frutas:\n",
        "    * ### print(f\"{elemento = }\")\n",
        "\n",
        "<br>\n",
        "\n",
        "### A seguir, execute o código do exemplo na célula abaixo."
      ],
      "metadata": {
        "id": "xRUBRGzMaYxy"
      }
    },
    {
      "cell_type": "code",
      "source": [
        "# Digite o código e execute esta célula.\n",
        "\n"
      ],
      "metadata": {
        "id": "dQ19WgQHVlnZ"
      },
      "execution_count": null,
      "outputs": []
    },
    {
      "cell_type": "markdown",
      "source": [
        "## <font color='orange'>**PERCORRER LISTA COM FOR USANDO ÍNDICES**</font>"
      ],
      "metadata": {
        "id": "CueOorDDfMDT"
      }
    },
    {
      "cell_type": "markdown",
      "source": [
        "\n",
        "### Se é possível percorrer a lista com a função WHILE usando os ídices da lista, seria possível fazer o mesmo com a estrutura de repetição FOR. Vejamos um exemplo:\n",
        "\n",
        "<br>\n",
        "\n",
        "### Exemplo:\n",
        "* ### for i in range(len(lista_frutas)):\n",
        "    * ### print(f\"{lista_frutas[i] = }\")\n",
        "\n",
        "<br>\n",
        "\n",
        "### A seguir, execute o código do exemplo na célula abaixo."
      ],
      "metadata": {
        "id": "ppouIWpZfMDU"
      }
    },
    {
      "cell_type": "code",
      "source": [
        "# Digite o código e execute esta célula.\n",
        "\n"
      ],
      "metadata": {
        "id": "XdeWFD_LfMDV"
      },
      "execution_count": null,
      "outputs": []
    },
    {
      "cell_type": "markdown",
      "source": [
        "## <font color='orange'>**PERCORRER LISTA USANDO LIST COMPREHENSION**</font>"
      ],
      "metadata": {
        "id": "5FmPf7QzgNRq"
      }
    },
    {
      "cell_type": "markdown",
      "source": [
        "\n",
        "### \"List Comprehension\" em português quer dizer \"Compreensão de Lista\". Essa é uma forma mais curta da estrutura de repetição FOR. Vejamos um exemplo:\n",
        "\n",
        "\n",
        "### Exemplo:\n",
        "* ### _lista_pares = [ 2, 4, 6, 8, 10 ]_\n",
        "* ### _[ item for item in lista_pares ]_\n",
        "\n",
        "<br>\n",
        "\n",
        "### A seguir, execute o código do exemplo na célula abaixo."
      ],
      "metadata": {
        "id": "mOb_9jQBgNR0"
      }
    },
    {
      "cell_type": "code",
      "source": [
        "# Digite o código e execute esta célula.\n",
        "\n"
      ],
      "metadata": {
        "id": "awZ5Mi_Hv6qM",
        "outputId": "e5877cfe-8bbe-4c2a-db79-c448350c8783",
        "colab": {
          "base_uri": "https://localhost:8080/"
        }
      },
      "execution_count": 9,
      "outputs": [
        {
          "output_type": "execute_result",
          "data": {
            "text/plain": [
              "[2, 4, 6, 8, 10]"
            ]
          },
          "metadata": {},
          "execution_count": 9
        }
      ]
    },
    {
      "cell_type": "markdown",
      "source": [
        "## <font color='orange'>**DETERMINAR O TIPO DA LISTA**</font>"
      ],
      "metadata": {
        "id": "28iHYGnb41VN"
      }
    },
    {
      "cell_type": "markdown",
      "source": [
        "\n",
        "### Para determinar o tipo da lista basta invocar a função type(). Vejamos um exemplo:\n",
        "\n",
        "<br>\n",
        "\n",
        "### Exemplo:\n",
        "* ### print(f\"{ type( elemento ) = }\")\n",
        "\n",
        "<br>\n",
        "\n",
        "### A seguir, execute o código do exemplo na célula abaixo."
      ],
      "metadata": {
        "id": "IPctpffOaSRz"
      }
    },
    {
      "cell_type": "code",
      "source": [
        "# Digite o código e execute esta célula.\n",
        "\n"
      ],
      "metadata": {
        "id": "H-WyYKra41VO"
      },
      "execution_count": null,
      "outputs": []
    },
    {
      "cell_type": "markdown",
      "source": [
        "## <font color='ocean'>**EXCLUIR/REMOVER ELEMENTOS DA LISTA ATRAVÉS DE SEUS ÍNDICES**</font>\n",
        "\n",
        "### Se queremos excluir algum item da nossa lista de frutas, como faremos? Vejamos um exemplo:</font>"
      ],
      "metadata": {
        "id": "eKJiX1jFVc9h"
      }
    },
    {
      "cell_type": "markdown",
      "source": [
        "## <font color='orange'>**MÉTODO DEL PARA EXCLUIR UM ITEM**</font>\n"
      ],
      "metadata": {
        "id": "OMI8srT3Zpgh"
      }
    },
    {
      "cell_type": "markdown",
      "source": [
        "\n",
        "### Exemplo:\n",
        "* ### *lista_frutas = ['manga', 'melancia', 'pêra', 'uva', 'melancia']*\n",
        "* ### *print(f\"{lista_frutas = }\")*\n",
        "* ### *del lista_frutas[1]*\n",
        "* ### *print(f\"{lista_frutas = }\")*\n",
        "\n",
        "<br>\n",
        "\n",
        "### A seguir, execute o código do exemplo na célula abaixo."
      ],
      "metadata": {
        "id": "I_q49T7MZpgi"
      }
    },
    {
      "cell_type": "code",
      "source": [
        "# Digite o código e execute esta célula.\n",
        "\n"
      ],
      "metadata": {
        "id": "huSywxOvZpgi"
      },
      "execution_count": null,
      "outputs": []
    },
    {
      "cell_type": "markdown",
      "source": [
        "## <font color='orange'>**MÉTODO REMOVE()**</font>\n"
      ],
      "metadata": {
        "id": "7JJovfAgXM5E"
      }
    },
    {
      "cell_type": "markdown",
      "source": [
        "\n",
        "### Exemplo:\n",
        "* ### *lista_frutas = ['manga', 'melancia', 'pêra', 'melancia', 'uva']*\n",
        "* ### *print(f\"{lista_frutas = }\")*\n",
        "* ### *lista_frutas.remove('melancia')*\n",
        "* ### *print(f\"{lista_frutas = }\")*\n",
        "\n",
        "<br>\n",
        "\n",
        "### A seguir, execute o código do exemplo na célula abaixo."
      ],
      "metadata": {
        "id": "O6GdLgfyXZ2z"
      }
    },
    {
      "cell_type": "code",
      "source": [
        "# Digite o código e execute esta célula.\n",
        "\n"
      ],
      "metadata": {
        "id": "kmf4nVMdW-ID"
      },
      "execution_count": null,
      "outputs": []
    },
    {
      "cell_type": "markdown",
      "source": [
        "## <font color='orange'>**MÉTODO POP()**</font>\n"
      ],
      "metadata": {
        "id": "hBCK2ZZMX9n6"
      }
    },
    {
      "cell_type": "markdown",
      "source": [
        "\n",
        "### Exemplo:\n",
        "* ### *lista_frutas = ['manga', 'melancia', 'pêra', 'uva', 'melancia']*\n",
        "* ### *print(f\"{lista_frutas = }\")*\n",
        "* ### *lista_frutas.pop(1)*\n",
        "* ### *print(f\"{lista_frutas = }\")*\n",
        "\n",
        "<br>\n",
        "\n",
        "### A seguir, execute o código do exemplo na célula abaixo."
      ],
      "metadata": {
        "id": "cC7Fw-h9Xr5M"
      }
    },
    {
      "cell_type": "code",
      "source": [
        "# Digite o código e execute esta célula.\n",
        "\n"
      ],
      "metadata": {
        "id": "GUjqlRo6Xr5N"
      },
      "execution_count": null,
      "outputs": []
    },
    {
      "cell_type": "markdown",
      "source": [
        "##<font color='orange'>**MÉTODO DEL PARA EXCLUIR UM ITEM**</font>\n"
      ],
      "metadata": {
        "id": "ASKM4pdUY_DZ"
      }
    },
    {
      "cell_type": "markdown",
      "source": [
        "\n",
        "### Exemplo:\n",
        "* ### *lista_frutas = ['manga', 'melancia', 'pêra', 'uva', 'melancia']*\n",
        "* ### *print(f\"{lista_frutas = }\")*\n",
        "* ### *del lista_frutas[1]*\n",
        "* ### *print(f\"{lista_frutas = }\")*\n",
        "\n",
        "<br>\n",
        "\n",
        "### A seguir, execute o código do exemplo na célula abaixo."
      ],
      "metadata": {
        "id": "XCYsedccY_Da"
      }
    },
    {
      "cell_type": "code",
      "source": [
        "# Digite o código e execute esta célula.\n",
        "\n"
      ],
      "metadata": {
        "id": "mQvvWKPHY_Db"
      },
      "execution_count": null,
      "outputs": []
    },
    {
      "cell_type": "markdown",
      "source": [
        "## <font color='orange'>**MÉTODO DEL PARA EXCLUIR TODA A LISTA**</font>\n"
      ],
      "metadata": {
        "id": "4OHXqxT6ZVoL"
      }
    },
    {
      "cell_type": "markdown",
      "source": [
        "\n",
        "### Exemplo:\n",
        "* ### *lista_frutas = ['manga', 'melancia', 'pêra', 'uva', 'melancia']*\n",
        "* ### *print(f\"{lista_frutas = }\")*\n",
        "* ### *del lista_frutas*\n",
        "* ### *print(f\"{lista_frutas = }\")*\n",
        "\n",
        "<br>\n",
        "\n",
        "### A seguir, execute o código do exemplo na célula abaixo."
      ],
      "metadata": {
        "id": "eG7SXQdQZVoM"
      }
    },
    {
      "cell_type": "code",
      "source": [
        "# Digite o código e execute esta célula.\n",
        "\n"
      ],
      "metadata": {
        "id": "kOBOsRgIZVoM"
      },
      "execution_count": null,
      "outputs": []
    },
    {
      "cell_type": "markdown",
      "source": [
        "# <font color=\"ocean\" align='center'>**EXERCÍCIOS DE FIXAÇÃO DE CONTEÚDO**</font>\n",
        "# <font color=\"yellow\" align='center'>**EXERCÍCIOS DE FIXAÇÃO DE CONTEÚDO**</font>\n",
        "# <font color=\"blue\" align='center'>**EXERCÍCIOS DE FIXAÇÃO DE CONTEÚDO**</font>"
      ],
      "metadata": {
        "id": "vxyUEVZ7H5fX"
      }
    },
    {
      "cell_type": "markdown",
      "source": [
        "### <font color='orange'>**1) Crie uma lista contendo o nome das disciplinas que você estudou ou ainda estuda em 2024 no IFMA**</font>\n",
        "\n"
      ],
      "metadata": {
        "id": "aL5mxm-FH5fY"
      }
    },
    {
      "cell_type": "code",
      "source": [
        "# Digite o código e execute esta célula.\n",
        "\n"
      ],
      "metadata": {
        "id": "jgoe4wzI4-Mr"
      },
      "execution_count": null,
      "outputs": []
    },
    {
      "cell_type": "markdown",
      "source": [
        "### <font color='orange'>**1.1) Determine o comprimento da lista que você criou a respeito das disciplinas que você estudou ou ainda estuda no ano de 2024 no IFMA**</font>\n",
        "\n"
      ],
      "metadata": {
        "id": "fDrgW35KIuFb"
      }
    },
    {
      "cell_type": "code",
      "source": [
        "# Digite o código e execute esta célula.\n",
        "\n"
      ],
      "metadata": {
        "id": "9mpfOnIFIuFc"
      },
      "execution_count": null,
      "outputs": []
    },
    {
      "cell_type": "markdown",
      "source": [
        "### <font color='orange'>**1.2) Percorra essa mesma lita das disciplinas usando uma laço de repetição**</font>\n",
        "\n"
      ],
      "metadata": {
        "id": "rlcRbB3PJAyc"
      }
    },
    {
      "cell_type": "code",
      "source": [
        "# Digite o código e execute esta célula.\n",
        "\n"
      ],
      "metadata": {
        "id": "9aUzfBfWJAye"
      },
      "execution_count": null,
      "outputs": []
    },
    {
      "cell_type": "markdown",
      "source": [
        "### <font color='orange'>**2) Lista de Amigos! Dessa vez, você deve criar um app que seja capaz de:**</font>\n",
        "\n",
        "1. Apresentar um menu de ações:\n",
        "  * [1] - Para inserir nome dos amigos;\n",
        "  * [2] - Para informar o comprimento da lista;\n",
        "  * [3] - Para imprimir os itens da lista;\n",
        "  * [4] - Para excluir determinado item;\n",
        "  * [5] - Para esvaziar a lista.\n",
        "\n",
        "<BR>\n",
        "\n",
        "#### <font color='ocean'>**OBSERVAÇÕES**</font>\n",
        "1. Mas é claro que quando o usuário selecionar a opção de inserir nome de um amigo, seu app deve ser capaz de capturar o nome informado pelo usuário e logo em seguida inserir na lista de amigos.\n",
        "\n",
        "2. Selecionando opção 2 para comprimento, o app deve ser capaz de imprimir a quantidade de nomes inseridos. Ex.: tamanho 12.\n",
        "\n",
        "3. Ao selecionar opção 3 para imprimir, a lista de amigos deve ser impressa. E.: Aquaman, Batman, Superman, Wonder Woman,  etc.\n",
        "\n",
        "\n"
      ],
      "metadata": {
        "id": "t_sms6zVJvQA"
      }
    },
    {
      "cell_type": "code",
      "source": [
        "# Digite o código e execute esta célula.\n",
        "\n"
      ],
      "metadata": {
        "id": "uuuzIEhbJvQA"
      },
      "execution_count": null,
      "outputs": []
    }
  ]
}