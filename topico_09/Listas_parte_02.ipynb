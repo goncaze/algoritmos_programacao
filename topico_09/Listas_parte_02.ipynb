{
  "nbformat": 4,
  "nbformat_minor": 0,
  "metadata": {
    "colab": {
      "provenance": [],
      "include_colab_link": true
    },
    "kernelspec": {
      "name": "python3",
      "display_name": "Python 3"
    },
    "language_info": {
      "name": "python"
    }
  },
  "cells": [
    {
      "cell_type": "markdown",
      "metadata": {
        "id": "view-in-github",
        "colab_type": "text"
      },
      "source": [
        "<a href=\"https://colab.research.google.com/github/goncaze/algoritmos_programaco/blob/main/topico_09/Listas_parte_02.ipynb\" target=\"_parent\"><img src=\"https://colab.research.google.com/assets/colab-badge.svg\" alt=\"Open In Colab\"/></a>"
      ]
    },
    {
      "cell_type": "markdown",
      "source": [
        "# <font color=\"ocean\" align='center'>**SEGUNDA PARTE DO APRENDIZADO EM LISTAS DO PYTHON**</font>\n",
        "\n",
        "---"
      ],
      "metadata": {
        "id": "f6MjyYOVJvYT"
      }
    },
    {
      "cell_type": "markdown",
      "source": [
        "### Espero que tenho realizado todos os exercícios da primeira parte do aprendizado de Listas do Python. Agora nos dedicaremos a segunda parte!"
      ],
      "metadata": {
        "id": "TLrahFbjNBFF"
      }
    },
    {
      "cell_type": "markdown",
      "source": [
        "# <font color=\"ocean\" align='center'>**O QUE VAMOS APRENDER?**</font>\n"
      ],
      "metadata": {
        "id": "CuqOWUoCopF0"
      }
    },
    {
      "cell_type": "markdown",
      "source": [
        "<font color='orange'>\n",
        "\n",
        "### <font color='orange'>1. Ordenar uma lista em ordem crescente</font>\n",
        "### <font color='orange'>2. Ordenar uma lista em ordem decrescente</font>\n",
        "### <font color='orange'>3. Inverter a ordem de uma lista</font>\n",
        "### <font color='orange'>4. Personalizar uma função de ordenação de listas</font>\n",
        "<!-- ### <font color='orange'>5. Acessar elementos da lista</font>\n",
        "  * <font color='orange'>Usando seus índices</font>\n",
        "  * <font color='orange'>Obter o último elemento</font>\n",
        "  * <font color='orange'>Obter o penúltimo elemento</font>\n",
        "  * <font color='orange'>Usar uma faixa de índices</font>\n",
        "\n",
        "###<font color='orange'> <font color='orange'>6. Alterar elementos da lista</font>\n",
        "  * <font color='orange'>Através de seus índices</font>\n",
        "\n",
        "###<font color='orange'> <font color='orange'>7. Comprimento ou tamanho da lista</font>\n",
        "### <font color='orange'>8. Percorrer a lista</font>\n",
        "  * <font color='orange'>com while</font>\n",
        "  * <font color='orange'>com for</font>\n",
        "\n",
        "###<font color='orange'> <font color='orange'>9. Determinar o tipo da lista</font> -->"
      ],
      "metadata": {
        "id": "RPFe8XfidVAg"
      }
    },
    {
      "cell_type": "markdown",
      "source": [
        "# <font color='ocean'>**LISTAS PYTHON**</font>\n",
        "\n",
        "### Variáveis do tipo list em Python são usadas para armazenar vários itens de uma única vez e aceitam valores duplicados. Diversos tipos de valores (int, str, float, etc.) podem ser armazenados em uma lista Python."
      ],
      "metadata": {
        "id": "Yx3EiGqSnfrk"
      }
    },
    {
      "cell_type": "markdown",
      "source": [
        "## <font color='orange'>**COMO ORDENAR UMA LISTA EM ORDEM CRESCENTE?**</ont>"
      ],
      "metadata": {
        "id": "KglMZtTUNdXm"
      }
    },
    {
      "cell_type": "markdown",
      "source": [
        "### Todas as listas de Python possuem um método denominado __sort()__ que organiza os itens de uma lista na ordem crescente.\n",
        "\n",
        "### Exemplo:\n",
        "\n",
        "*   ### *lista_frutas = ['Uva', 'Pêra', 'Maçã', 'Kiwi', 'Figo', 'Açaí' ]*\n",
        "*   ### *lista_frutas.sort()*\n",
        "*   ### *print( lista_frutas )*\n",
        "\n",
        "<br>\n",
        "\n",
        "### A seguir, execute o código do exemplo na célula abaixo."
      ],
      "metadata": {
        "id": "8DhZkhBHdG2M"
      }
    },
    {
      "cell_type": "code",
      "source": [
        "# Digite o código e execute esta célula.\n",
        "\n"
      ],
      "metadata": {
        "id": "woVc3RbLNWz4"
      },
      "execution_count": null,
      "outputs": []
    },
    {
      "cell_type": "markdown",
      "source": [
        "### <font color='orange'> __Mas, existe um problema que você deve saber. O método denominado sort() faz distinção entre letras maiúsculas e miusculas. Assim, uma palavra 'Uva' será ordenada na frente de outra palavra como 'açaí'.__</font>\n",
        "\n",
        "### Exemplo:\n",
        "\n",
        "*   ### *lista_frutas = ['Uva', 'Pêra', 'Maçã', 'Kiwi', 'Figo', 'açaí' ]*\n",
        "*   ### *lista_frutas.sort()*\n",
        "*   ### *print( lista_frutas )*\n",
        "\n",
        "<br>\n",
        "\n",
        "### A seguir, execute o código do exemplo na célula abaixo."
      ],
      "metadata": {
        "id": "5PptIRIP6ElX"
      }
    },
    {
      "cell_type": "code",
      "source": [
        "# Digite o código e execute esta célula.\n",
        "\n"
      ],
      "metadata": {
        "id": "yXQ4r-Lx6ElY"
      },
      "execution_count": null,
      "outputs": []
    },
    {
      "cell_type": "markdown",
      "source": [
        "### <font color='orange'> __Solução para este problema do método sort() quanto à distinção entre letras maiúsculas e miusculas é passar uma função chave para o método sort(key = function).__</font>\n",
        "\n",
        "### __Por exemplo, toda variável do tipo str (String) tem o método lower() que ao ser invocado torna todas a letras minúsculas. Dessa forma, sort() não precisará fazer distinção entre maiúsculas e minúsculas.__\n",
        "\n",
        "### Exemplo:\n",
        "\n",
        "*   ### *lista_frutas = ['Uva', 'Pêra', 'Maçã', 'Kiwi', 'Figo', 'açaí' ]*\n",
        "*   ### *lista_frutas.sort(key = str.lower)*\n",
        "*   ### *print( lista_frutas )*\n",
        "\n",
        "<br>\n",
        "\n",
        "### A seguir, execute o código do exemplo na célula abaixo."
      ],
      "metadata": {
        "id": "E0I4Mkl77gVW"
      }
    },
    {
      "cell_type": "code",
      "source": [
        "# Digite o código e execute esta célula.\n",
        "\n"
      ],
      "metadata": {
        "id": "gifPihIE7gVW"
      },
      "execution_count": null,
      "outputs": []
    },
    {
      "cell_type": "markdown",
      "source": [
        "## <font color='orange'>**INVERTER ORDEM DE UMA LISTA INDEPENDENTE DA ORDENAÇÃO?**</ont>"
      ],
      "metadata": {
        "id": "ZvMCv941_Rft"
      }
    },
    {
      "cell_type": "markdown",
      "source": [
        "### Para a inversão de uma listas de Python independentemente de uma ordenação crescente ou decrescente, invoque o método \"reverse()\" da lista Python.\n",
        "\n",
        "### Exemplo:\n",
        "\n",
        "*   ### *lista_numeros = [ 1, 9, 8, 2 ]*\n",
        "*   ### *lista_numeros.reverse()*\n",
        "*   ### *print( lista_numeros )*\n",
        "\n",
        "<br>\n",
        "\n",
        "### A seguir, execute o código do exemplo na célula abaixo."
      ],
      "metadata": {
        "id": "8ZCGi4qH_Rfu"
      }
    },
    {
      "cell_type": "code",
      "source": [
        "# Digite o código e execute esta célula.\n",
        "\n"
      ],
      "metadata": {
        "id": "NGenpoT9_Rfv"
      },
      "execution_count": null,
      "outputs": []
    },
    {
      "cell_type": "markdown",
      "source": [
        "## <font color='orange'>**PERSONALIZAR UMA FUNÇÃO DE ORDENAÇÃO?**</ont>"
      ],
      "metadata": {
        "id": "JYzRcdk7C3qf"
      }
    },
    {
      "cell_type": "markdown",
      "source": [
        "### Criar uma função própria!\n",
        "### Lembra-te de que usamos o método lower() classe str (String) para tornar todas a palavras com letras em minúsculas e passamos esse método como argumento para sort()?\n",
        "### O fato é que podemos criar uma função própria/personalizada para que sort() faça a ordenação de uma lista da maneira que precisarmos. Por exemplo, criaremos uma função para ordenar valores por proximidade a um determinado valor.\n",
        "\n",
        "### Exemplo:\n",
        "\n",
        "```python\n",
        "def ordenacao_personalizada( n ):\n",
        "  return abs(n - 100)\n",
        "\n",
        "lista_numeros = [ 10, 90, 80, 200, 110, 101 ]\n",
        "\n",
        "lista_numeros.( key = ordenacao_personalizada )\n",
        "\n",
        "print( lista_numeros )\n",
        "```\n",
        "### Observação: a função abs() retorna o valor absoluto de um número, ou seja, para abs(2) retorná 2 e para abs(-2) retornará 2.\n",
        "<br>\n",
        "\n",
        "### A seguir, execute o código do exemplo na célula abaixo."
      ],
      "metadata": {
        "id": "MMU_gVUlC3qf"
      }
    },
    {
      "cell_type": "code",
      "source": [
        "# Digite o código e execute esta célula.\n",
        "def ordenacao_personalizada( n ):\n",
        "  return abs(n - 100)\n",
        "\n",
        "lista_numeros = [ 10, 90, 80, 200, 110, 101 ]\n",
        "lista_numeros.sort( key = ordenacao_personalizada )\n",
        "print( lista_numeros )"
      ],
      "metadata": {
        "id": "L3TkgNpKC3qg"
      },
      "execution_count": null,
      "outputs": []
    },
    {
      "cell_type": "markdown",
      "source": [
        "# <font color=\"ocean\" align='center'>**EXERCÍCIOS DE FIXAÇÃO DE CONTEÚDO**</font>\n",
        "# <font color=\"yellow\" align='center'>**EXERCÍCIOS DE FIXAÇÃO DE CONTEÚDO**</font>\n",
        "# <font color=\"blue\" align='center'>**EXERCÍCIOS DE FIXAÇÃO DE CONTEÚDO**</font>"
      ],
      "metadata": {
        "id": "vxyUEVZ7H5fX"
      }
    },
    {
      "cell_type": "markdown",
      "source": [
        "## <font color='orange'> __1) ACERTAR O NÚMERO SORTEADO!__</font>\n",
        "\n",
        "### Dessa vez, você deve criar um app que seja capaz de:\n",
        "\n",
        "1. Apresentar um menu de ações:\n",
        "  * [ 1 ] - Chute um número para inserir na lista de chutes;\n",
        "  * [ 2 ] - Comprimento da lista de chutes;\n",
        "  * [ 3 ] - Para imprimir os itens da lista de chutes;\n",
        "  * [ 4 ] - Para excluir determinado chute;\n",
        "  * [ 5 ] - Para esvaziar a lista de chutes;\n",
        "  * [ 6 ] - Ordenar a lista de chutes em ordem crescente;\n",
        "  * [ 7 ] - Ordenar a lista de chutes em ordem decrescente;\n",
        "  * [ 8 ] - Inverter a lista de chutes;\n",
        "  * [ 9 ] - Verificar as distâncias dos cutes para o número sorteado.\n",
        "\n",
        "<BR>\n",
        "\n",
        "#### <font color='ocean'>**OBSERVAÇÕES**</font>\n",
        "### 1. Estou fornecendo o código que gera o número sorteado para você.\n",
        "\n",
        "```python\n",
        "import random\n",
        "numero_sorteado = random.randint(1, 100)\n",
        "```\n",
        "\n",
        "\n",
        "\n"
      ],
      "metadata": {
        "id": "t_sms6zVJvQA"
      }
    },
    {
      "cell_type": "code",
      "source": [
        "# Digite o código e execute esta célula.\n",
        "import random\n",
        "numero_sorteado = random.randint(1, 100)"
      ],
      "metadata": {
        "id": "uuuzIEhbJvQA"
      },
      "execution_count": null,
      "outputs": []
    }
  ]
}